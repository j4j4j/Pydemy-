{
 "cells": [
  {
   "cell_type": "code",
   "execution_count": 22,
   "metadata": {},
   "outputs": [],
   "source": [
    "import random\n",
    "import BJClasses"
   ]
  },
  {
   "cell_type": "code",
   "execution_count": 23,
   "metadata": {},
   "outputs": [
    {
     "name": "stdout",
     "output_type": "stream",
     "text": [
      "('Hearts', 'Diamonds', 'Spades', 'Clubs')\n"
     ]
    }
   ],
   "source": [
    "print(BJClasses.suits)"
   ]
  },
  {
   "cell_type": "code",
   "execution_count": 24,
   "metadata": {},
   "outputs": [
    {
     "name": "stdout",
     "output_type": "stream",
     "text": [
      "how much are you bringing to the table? whole dollars only\n",
      "300\n",
      "300 deposited as starting funds.\n",
      "init: []\n",
      "init dealer: []\n",
      "New deck made.\n",
      "\n",
      "52 cards in the deck. drawing a card:\n",
      "\n"
     ]
    },
    {
     "ename": "NameError",
     "evalue": "name 'random' is not defined",
     "output_type": "error",
     "traceback": [
      "\u001b[1;31m---------------------------------------------------------------------------\u001b[0m",
      "\u001b[1;31mNameError\u001b[0m                                 Traceback (most recent call last)",
      "\u001b[1;32m<ipython-input-24-26d3d96e2ae0>\u001b[0m in \u001b[0;36m<module>\u001b[1;34m()\u001b[0m\n\u001b[0;32m     28\u001b[0m     \u001b[0mprint\u001b[0m\u001b[1;33m(\u001b[0m\u001b[1;34m\"init dealer: \"\u001b[0m \u001b[1;33m+\u001b[0m \u001b[0mstr\u001b[0m\u001b[1;33m(\u001b[0m\u001b[0mdealer\u001b[0m\u001b[1;33m.\u001b[0m\u001b[0mcards\u001b[0m\u001b[1;33m)\u001b[0m\u001b[1;33m)\u001b[0m\u001b[1;33m\u001b[0m\u001b[0m\n\u001b[0;32m     29\u001b[0m     \u001b[0mdeck\u001b[0m \u001b[1;33m=\u001b[0m \u001b[0mBJClasses\u001b[0m\u001b[1;33m.\u001b[0m\u001b[0mDeck\u001b[0m\u001b[1;33m(\u001b[0m\u001b[1;33m)\u001b[0m\u001b[1;33m\u001b[0m\u001b[0m\n\u001b[1;32m---> 30\u001b[1;33m     \u001b[0mplayer\u001b[0m\u001b[1;33m.\u001b[0m\u001b[0mtake\u001b[0m\u001b[1;33m(\u001b[0m\u001b[0mdeck\u001b[0m\u001b[1;33m.\u001b[0m\u001b[0mdraw\u001b[0m\u001b[1;33m(\u001b[0m\u001b[1;33m)\u001b[0m\u001b[1;33m)\u001b[0m\u001b[1;33m\u001b[0m\u001b[0m\n\u001b[0m\u001b[0;32m     31\u001b[0m     \u001b[0mplayer\u001b[0m\u001b[1;33m.\u001b[0m\u001b[0mtake\u001b[0m\u001b[1;33m(\u001b[0m\u001b[0mdeck\u001b[0m\u001b[1;33m.\u001b[0m\u001b[0mdraw\u001b[0m\u001b[1;33m(\u001b[0m\u001b[1;33m)\u001b[0m\u001b[1;33m)\u001b[0m\u001b[1;33m\u001b[0m\u001b[0m\n\u001b[0;32m     32\u001b[0m     \u001b[0mdealer\u001b[0m\u001b[1;33m.\u001b[0m\u001b[0mtake\u001b[0m\u001b[1;33m(\u001b[0m\u001b[0mdeck\u001b[0m\u001b[1;33m.\u001b[0m\u001b[0mdraw\u001b[0m\u001b[1;33m(\u001b[0m\u001b[1;33m)\u001b[0m\u001b[1;33m)\u001b[0m\u001b[1;33m\u001b[0m\u001b[0m\n",
      "\u001b[1;32m~\\Documents\\GitHub\\Pydemy-\\08-Milestone Project - 2\\BJClasses.py\u001b[0m in \u001b[0;36mdraw\u001b[1;34m(self)\u001b[0m\n\u001b[0;32m     66\u001b[0m     \u001b[1;32mdef\u001b[0m \u001b[0mdraw\u001b[0m\u001b[1;33m(\u001b[0m\u001b[0mself\u001b[0m\u001b[1;33m)\u001b[0m\u001b[1;33m:\u001b[0m\u001b[1;33m\u001b[0m\u001b[0m\n\u001b[0;32m     67\u001b[0m         \u001b[0mprint\u001b[0m\u001b[1;33m(\u001b[0m\u001b[1;34m'{} cards in the deck. drawing a card:\\n'\u001b[0m\u001b[1;33m.\u001b[0m\u001b[0mformat\u001b[0m\u001b[1;33m(\u001b[0m\u001b[0mlen\u001b[0m\u001b[1;33m(\u001b[0m\u001b[0mself\u001b[0m\u001b[1;33m.\u001b[0m\u001b[0mcards\u001b[0m\u001b[1;33m)\u001b[0m\u001b[1;33m)\u001b[0m\u001b[1;33m)\u001b[0m\u001b[1;33m\u001b[0m\u001b[0m\n\u001b[1;32m---> 68\u001b[1;33m         \u001b[0mdrawn_number\u001b[0m \u001b[1;33m=\u001b[0m \u001b[0mrandom\u001b[0m\u001b[1;33m.\u001b[0m\u001b[0mrandint\u001b[0m\u001b[1;33m(\u001b[0m\u001b[1;36m0\u001b[0m\u001b[1;33m,\u001b[0m\u001b[0mlen\u001b[0m\u001b[1;33m(\u001b[0m\u001b[0mself\u001b[0m\u001b[1;33m.\u001b[0m\u001b[0mcards\u001b[0m\u001b[1;33m)\u001b[0m\u001b[1;33m)\u001b[0m\u001b[1;33m\u001b[0m\u001b[0m\n\u001b[0m\u001b[0;32m     69\u001b[0m         \u001b[0mprint\u001b[0m\u001b[1;33m(\u001b[0m\u001b[1;34m'drawn number: {}'\u001b[0m\u001b[1;33m.\u001b[0m\u001b[0mformat\u001b[0m\u001b[1;33m(\u001b[0m\u001b[0mstr\u001b[0m\u001b[1;33m(\u001b[0m\u001b[0mdrawn_number\u001b[0m\u001b[1;33m)\u001b[0m\u001b[1;33m)\u001b[0m\u001b[1;33m)\u001b[0m\u001b[1;33m\u001b[0m\u001b[0m\n\u001b[0;32m     70\u001b[0m         \u001b[1;32mreturn\u001b[0m \u001b[0mself\u001b[0m\u001b[1;33m.\u001b[0m\u001b[0mcards\u001b[0m\u001b[1;33m.\u001b[0m\u001b[0mpop\u001b[0m\u001b[1;33m(\u001b[0m\u001b[0mdrawn_number\u001b[0m\u001b[1;33m)\u001b[0m\u001b[1;33m\u001b[0m\u001b[0m\n",
      "\u001b[1;31mNameError\u001b[0m: name 'random' is not defined"
     ]
    }
   ],
   "source": [
    "'''Order of actions:\n",
    "    1) create deck\n",
    "    2) deal 2 cards to player and dealer\n",
    "    3) show player cards and dealer up card, show result\n",
    "    4) ask player for input (hit/stay)\n",
    "    5) check if player busts\n",
    "    6) if no bust: process dealer actions\n",
    "    7) conclude round after dealers actions\n",
    "    8) ask if player wants to play again\n",
    "    9) reset deck, update player status\n",
    "'''\n",
    "\n",
    "playing = True\n",
    "\n",
    "while True:\n",
    "    try:\n",
    "        deposit = int(input(\"how much are you bringing to the table? whole dollars only\\n\"))\n",
    "    except:\n",
    "        print(\"error. try again.\\n\")\n",
    "    else:\n",
    "        print(\"{} deposited as starting funds.\".format(str(deposit)))\n",
    "        break\n",
    "\n",
    "while playing:\n",
    "    player = BJClasses.Player('Player',deposit)\n",
    "    dealer = BJClasses.Player('Dealer')\n",
    "    print(\"init: \"+str(player.cards))\n",
    "    print(\"init dealer: \" + str(dealer.cards))\n",
    "    deck = BJClasses.Deck()\n",
    "    player.take(deck.draw())\n",
    "    player.take(deck.draw())\n",
    "    dealer.take(deck.draw())\n",
    "    dealer.take(deck.draw())\n",
    "#     print(dealer.cards)\n",
    "#     print(player.cards)\n",
    "    \n",
    "    \n",
    "    print(dealer)\n",
    "    print(player)\n",
    "    \n",
    "    \n",
    "    break\n"
   ]
  },
  {
   "cell_type": "code",
   "execution_count": null,
   "metadata": {},
   "outputs": [],
   "source": [
    "dealer.cards\n",
    "player.cards"
   ]
  },
  {
   "cell_type": "code",
   "execution_count": null,
   "metadata": {},
   "outputs": [],
   "source": [
    "dealer.cards[1].rank"
   ]
  },
  {
   "cell_type": "code",
   "execution_count": null,
   "metadata": {},
   "outputs": [],
   "source": [
    "MyClass.__dict__['b']"
   ]
  },
  {
   "cell_type": "code",
   "execution_count": 33,
   "metadata": {},
   "outputs": [
    {
     "data": {
      "text/plain": [
       "[]"
      ]
     },
     "execution_count": 33,
     "metadata": {},
     "output_type": "execute_result"
    }
   ],
   "source": [
    "dealer.cards"
   ]
  },
  {
   "cell_type": "code",
   "execution_count": 443,
   "metadata": {},
   "outputs": [
    {
     "data": {
      "text/plain": [
       "[(10, 'Spades', 'Queen')]"
      ]
     },
     "execution_count": 443,
     "metadata": {},
     "output_type": "execute_result"
    }
   ],
   "source": [
    "player1.cards"
   ]
  },
  {
   "cell_type": "code",
   "execution_count": 444,
   "metadata": {},
   "outputs": [
    {
     "data": {
      "text/plain": [
       "10"
      ]
     },
     "execution_count": 444,
     "metadata": {},
     "output_type": "execute_result"
    }
   ],
   "source": [
    "player1.count()"
   ]
  },
  {
   "cell_type": "code",
   "execution_count": 462,
   "metadata": {},
   "outputs": [],
   "source": [
    "player1.take((11,'Spades','Ace'))"
   ]
  },
  {
   "cell_type": "code",
   "execution_count": 467,
   "metadata": {},
   "outputs": [
    {
     "data": {
      "text/plain": [
       "[(11, 'Spades', 'Ace'),\n",
       " (11, 'Spades', 'Ace'),\n",
       " (11, 'Spades', 'Ace'),\n",
       " (11, 'Spades', 'Ace'),\n",
       " (6, 'Hearts', 'Six'),\n",
       " (4, 'Diamonds', 'Four'),\n",
       " (11, 'Spades', 'Ace'),\n",
       " (11, 'Spades', 'Ace'),\n",
       " (11, 'Spades', 'Ace'),\n",
       " (11, 'Spades', 'Ace'),\n",
       " (6, 'Diamonds', 'Six')]"
      ]
     },
     "execution_count": 467,
     "metadata": {},
     "output_type": "execute_result"
    }
   ],
   "source": [
    "player1.cards"
   ]
  },
  {
   "cell_type": "code",
   "execution_count": null,
   "metadata": {},
   "outputs": [],
   "source": [
    "player1.count()"
   ]
  },
  {
   "cell_type": "code",
   "execution_count": null,
   "metadata": {},
   "outputs": [],
   "source": []
  },
  {
   "cell_type": "code",
   "execution_count": 3,
   "metadata": {},
   "outputs": [],
   "source": [
    "# suits = ('Hearts','Diamonds','Spades','Clubs')\n",
    "# ranks = ('zero1','zero2','Two', 'Three', 'Four', 'Five', 'Six', 'Seven', 'Eight', 'Nine', 'Ten', 'Jack', 'Queen', 'King', 'Ace')\n",
    "# values = {'Two':2, 'Three':3, 'Four':4, 'Five':5, 'Six':6, 'Seven':7, 'Eight':8, 'Nine':9, 'Ten':10, 'Jack':10,\n",
    "#          'Queen':10, 'King':10, 'Ace':11}\n",
    "\n",
    "\n",
    "\n",
    "\n",
    "# class Card:\n",
    "#     '''\n",
    "#     Object to hold/set a cards attributes.\n",
    "#     '''\n",
    "#     suit = ''\n",
    "#     rank = ''\n",
    "#     def __init__(self):\n",
    "#         self.suit = suits[0]\n",
    "#         self.rank = ranks[2]\n",
    "        \n",
    "#     def __str__(self):\n",
    "#         return '{} of {}'.format(self.rank, self.suit)\n",
    "    \n",
    "#     def setSuit(self, suit):\n",
    "#         self.suit = suit\n",
    "        \n",
    "#     def setRank(self, rank):\n",
    "#         self.rank = rank\n",
    "    \n",
    "#     def getSuit(self):\n",
    "#         return (self.suit)\n",
    "    \n",
    "#     def getRank(self):\n",
    "#         return self.rank\n",
    "    \n",
    "#     def getValue(self):\n",
    "#         return values[self.rank]\n",
    "    \n",
    "#     def get(self):\n",
    "#         return '{} of {}'.format(self.rank, self.suit)\n",
    "    \n",
    "#     def __str__(self):\n",
    "#         return '{} of {}'.format(self.rank, self.suit)\n",
    "\n",
    "\n",
    "# class Deck:\n",
    "#     '''\n",
    "#     Deck object. On initialize it should create a valid deck of 52 cards. \n",
    "#     str returns current list of cards\n",
    "#     '''\n",
    "    \n",
    "#     '''needs: \n",
    "#         1) .draw()\n",
    "#         2) \n",
    "#     '''\n",
    "    \n",
    "#     cards = []\n",
    "#     def __init__(self):\n",
    "#         self.cards = [Card() for i in range(52)]\n",
    "#         print('New deck made.\\n')\n",
    "#         pointer = 0\n",
    "#         for x in range(len(suits)):\n",
    "#             for y in range(2,len(ranks)):\n",
    "#                 self.cards[pointer].setRank(ranks[y])\n",
    "#                 self.cards[pointer].setSuit(suits[x])\n",
    "#                 pointer+=1\n",
    "    \n",
    "#     def draw(self):\n",
    "#         print('{} cards in the deck. drawing a card:\\n'.format(len(self.cards)))\n",
    "#         drawn_number = random.randint(0,len(self.cards))\n",
    "#         print('drawn number: {}'.format(str(drawn_number)))\n",
    "#         return self.cards.pop(drawn_number)\n",
    "    \n",
    "#     def shuffle(self):\n",
    "#         random.shuffle(self.cards)\n",
    "\n",
    "    \n",
    "# #cool way to check if cards are unique: len(list) == len(set(list))\n",
    "# #print('are all cards unique: '+str((len(self.cards) == len(set(self.cards)))))\n",
    "    \n",
    "#     def __str__(self):\n",
    "#         output = 'current deck: \\n'\n",
    "#         for x in range(len(self.cards)):\n",
    "#             output = output+str(x+1)+'. '+self.cards[x].get()+'\\n'\n",
    "#         return output         \n",
    "    \n",
    "    \n",
    "\n",
    "# class Hand:\n",
    "#     '''\n",
    "#     Object that holds x cards. Can ADD to hand. Clears Hand. Returns attributes of Cards.\n",
    "#     Should return total value, if 21, over, or under. \n",
    "#     '''\n",
    "#     cards = []\n",
    "#     def take(self,card):\n",
    "#         self.cards.append(card)\n",
    "    \n",
    "#     def count(self):\n",
    "#         total = 0\n",
    "#         aces = 0\n",
    "#         for x in range(len(self.cards)):\n",
    "#             total = total + self.cards[x][0]\n",
    "#             if self.cards[x][0] == 11:\n",
    "#                 aces+=1\n",
    "#         while total > 21 and aces > 0:\n",
    "#             total = total - 10\n",
    "#             aces = aces - 1\n",
    "#         return total\n",
    "        \n",
    "# class Player(Hand):\n",
    "#     funds = 100\n",
    "#     def __init__(self,name='Player',start=100):\n",
    "#         self.funds = start\n",
    "#         self.name = name\n",
    "#         self.cards = []\n",
    "#     def getFunds(self):\n",
    "#         return self.funds\n",
    "#     def __str__(self):\n",
    "#         output = 'current hand for: {} \\nFunds: {}\\n'.format(self.name,self.funds)\n",
    "#         for x in range(len(self.cards)):\n",
    "#             output = output+str(x+1)+'. '+self.cards[x].get()+'\\n'\n",
    "#         return output \n",
    "\n",
    "\n"
   ]
  }
 ],
 "metadata": {
  "kernelspec": {
   "display_name": "Python 3",
   "language": "python",
   "name": "python3"
  },
  "language_info": {
   "codemirror_mode": {
    "name": "ipython",
    "version": 3
   },
   "file_extension": ".py",
   "mimetype": "text/x-python",
   "name": "python",
   "nbconvert_exporter": "python",
   "pygments_lexer": "ipython3",
   "version": "3.6.4"
  }
 },
 "nbformat": 4,
 "nbformat_minor": 2
}
