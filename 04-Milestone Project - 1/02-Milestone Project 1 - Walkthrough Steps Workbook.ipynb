{
 "cells": [
  {
   "cell_type": "markdown",
   "metadata": {},
   "source": [
    "# Milestone Project 1: Walkthrough Steps Workbook\n",
    "\n",
    "Below is a set of steps for you to follow to try to create the Tic Tac Toe Milestone Project game!"
   ]
  },
  {
   "cell_type": "markdown",
   "metadata": {},
   "source": [
    "#### Some suggested tools before you get started:\n",
    "To take input from a user:\n",
    "\n",
    "    player1 = input(\"Please pick a marker 'X' or 'O'\")\n",
    "    \n",
    "Note that input() takes in a string. If you need an integer value, use\n",
    "\n",
    "    position = int(input('Please enter a number'))\n",
    "    \n",
    "<br>To clear the screen between moves:\n",
    "\n",
    "    from IPython.display import clear_output\n",
    "    clear_output()\n",
    "    \n",
    "Note that clear_output() will only work in jupyter. To clear the screen in other IDEs, consider:\n",
    "\n",
    "    print('\\n'*100)\n",
    "    \n",
    "This scrolls the previous board up out of view. Now on to the program!"
   ]
  },
  {
   "cell_type": "markdown",
   "metadata": {},
   "source": [
    "**Step 1: Write a function that can print out a board. Set up your board as a list, where each index 1-9 corresponds with a number on a number pad, so you get a 3 by 3 board representation.**"
   ]
  },
  {
   "cell_type": "code",
   "execution_count": 16,
   "metadata": {
    "scrolled": true
   },
   "outputs": [],
   "source": [
    "from IPython.display import clear_output\n",
    "\n",
    "def tt_display_board(board):\n",
    "#     c1,c2,c3,c4,c5,c6,c7,c8,c9 = 'x','x','x','x','x','x','x','x','x' first try. dumb to make 9 variables when one list will do\n",
    "#     question: how can i assign 9 variables using a loop? ci, and loop over the i 9 times to assign c1-c9. \n",
    "#     not that its a good idea, but how would you do it if you needed to?\n",
    "\n",
    "    c = board\n",
    "    d1 = [' '*5+'|',' '*2+c[1]+'  |','_'*5+'|']\n",
    "    d2 = [' '*5+'|',' '*2+c[2]+'  ','_'*5+'|']\n",
    "    d3 = [' '*5,'|'+' '*2+c[3]+'  ','_'*5]\n",
    "    d4 = [' '*5+'|',' '*2+c[4]+'  |','_'*5+'|']\n",
    "    d5 = [' '*5+'|',' '*2+c[5]+'  ','_'*5+'|']\n",
    "    d6 = [' '*5,'|'+' '*2+c[6]+'  ','_'*5]\n",
    "    d7 = [' '*5+'|',' '*2+c[7]+'  |',' '*5+'|']\n",
    "    d8 = [' '*5+'|',' '*2+c[8]+'  ',' '*5+'|']\n",
    "    d9 = [' '*5,'|'+' '*2+c[9]+'  ',' '*5]\n",
    "    \n",
    "    print_out = ''\n",
    "    display_dict = {'d1':d1,'d2':d2,'d3':d3,'d4':d4,'d5':d5,'d6':d6,'d7':d7,'d8':d8,'d9':d9}\n",
    "    \n",
    "    # printing line by line. each line being: d1[0]+d2[0]+d3[0] \\n, repeat for 8 more lines. \n",
    "    # d1-d9 are the 9 sections, [0]-[2] are the lines within each section.\n",
    "    \n",
    "    for i in range(1,10,3):\n",
    "        print_line = ''\n",
    "        for j in range(0,3,1):\n",
    "            print_line+='\\n'\n",
    "            for k in range(0,3,1):\n",
    "                print_line+=display_dict['d'+str(i+k)][j]\n",
    "            \n",
    "        print_out = print_out+print_line\n",
    "    print('\\n'+print_out)\n",
    "    \n",
    "#     print(' '+d1[0]+d2[0]+d3[0]+'\\n'+d1[1]+d2[1]+d3[1]+'\\n'+d1[2]+d2[2]+d3[2]+'\\n',\n",
    "#           d4[0]+d5[0]+d6[0]+'\\n'+d4[1]+d5[1]+d6[1]+'\\n'+d4[2]+d5[2]+d6[2]+'\\n',\n",
    "#           d7[0]+d8[0]+d9[0]+'\\n'+d7[1]+d8[1]+d9[1]+'\\n'+d7[2]+d8[2]+d9[2]+'\\n')\n",
    "    \n",
    "#Eventually need to add them to a dict, and call the print in some kind of dict loop, instead of a long print statement\n",
    "    \n",
    "\n",
    "        \n",
    "            \n",
    "        "
   ]
  },
  {
   "cell_type": "markdown",
   "metadata": {},
   "source": [
    "**TEST Step 1:** run your function on a test version of the board list, and make adjustments as necessary"
   ]
  },
  {
   "cell_type": "code",
   "execution_count": 17,
   "metadata": {},
   "outputs": [
    {
     "name": "stdout",
     "output_type": "stream",
     "text": [
      "\n",
      "\n",
      "     |     |     \n",
      "  X  |  O  |  X  \n",
      "_____|_____|_____\n",
      "     |     |     \n",
      "  O  |  O  |  O  \n",
      "_____|_____|_____\n",
      "     |     |     \n",
      "  X  |  O  |  X  \n",
      "     |     |     \n"
     ]
    }
   ],
   "source": [
    "#test_board = ['#','1','2','3','4','5','6','7','8','9']\n",
    "test_board = ['#','X','O','X','O','O','O','X','O','X']\n",
    "tt_display_board(test_board)"
   ]
  },
  {
   "cell_type": "markdown",
   "metadata": {},
   "source": [
    "**Step 2: Write a function that can take in a player input and assign their marker as 'X' or 'O'. Think about using *while* loops to continually ask until you get a correct answer.**"
   ]
  },
  {
   "cell_type": "code",
   "execution_count": 3,
   "metadata": {},
   "outputs": [],
   "source": [
    "def tt_player_input(string):\n",
    "    '''\n",
    "    asks player for their marker, either X or O, checks if its ither\n",
    "    '''\n",
    "    player_input = None\n",
    "    ask = True\n",
    "    while ask:\n",
    "        player_input = str(input('Player {} Select X or O\\n'.format(string)))\n",
    "        if str(player_input).upper() == 'X' or str(player_input).upper()=='O':\n",
    "            ask = False\n",
    "            return player_input.upper()\n",
    "        else:\n",
    "            print('Unacceptable. Try again.')\n",
    "    print('Player selection is: '+player_input)"
   ]
  },
  {
   "cell_type": "markdown",
   "metadata": {},
   "source": [
    "**TEST Step 2:** run the function to make sure it returns the desired output"
   ]
  },
  {
   "cell_type": "code",
   "execution_count": 18,
   "metadata": {},
   "outputs": [],
   "source": [
    "#tt_player_input('1')"
   ]
  },
  {
   "cell_type": "markdown",
   "metadata": {},
   "source": [
    "**Step 3: Write a function that takes in the board list object, a marker ('X' or 'O'), and a desired position (number 1-9) and assigns it to the board.**"
   ]
  },
  {
   "cell_type": "code",
   "execution_count": 19,
   "metadata": {},
   "outputs": [],
   "source": [
    "def tt_place_marker(board, marker, position):\n",
    "    '''\n",
    "    place a -marker on the -board at -position. \n",
    "    does not check. it assigns immediately\n",
    "    returns board.\n",
    "    '''\n",
    "    board[position] = marker\n",
    "    return board\n",
    "    "
   ]
  },
  {
   "cell_type": "markdown",
   "metadata": {},
   "source": [
    "**TEST Step 3:** run the place marker function using test parameters and display the modified board"
   ]
  },
  {
   "cell_type": "code",
   "execution_count": 20,
   "metadata": {},
   "outputs": [
    {
     "name": "stdout",
     "output_type": "stream",
     "text": [
      "\n",
      "\n",
      "     |     |     \n",
      "  X  |  O  |  X  \n",
      "_____|_____|_____\n",
      "     |     |     \n",
      "  O  |  O  |  O  \n",
      "_____|_____|_____\n",
      "     |     |     \n",
      "  X  |  O  |  X  \n",
      "     |     |     \n"
     ]
    }
   ],
   "source": [
    "tt_place_marker(test_board,'X',3)\n",
    "tt_display_board(test_board)"
   ]
  },
  {
   "cell_type": "markdown",
   "metadata": {},
   "source": [
    "**Step 4: Write a function that takes in a board and a mark (X or O) and then checks to see if that mark has won. **"
   ]
  },
  {
   "cell_type": "code",
   "execution_count": 7,
   "metadata": {},
   "outputs": [],
   "source": [
    "def tt_win_check(board, mark):\n",
    "    '''\n",
    "    checks if mark wins by 3 row checks, 3 col checks, and 2 diagnal checks.\n",
    "    '''\n",
    "    won = False\n",
    "    for row in range(1,10,3):\n",
    "        if (board[row]==mark and board[row+1]==mark and board[row+2]==mark):\n",
    "            won = True\n",
    "    for col in range(1,4,1):\n",
    "        if (board[col]==mark and board[col+3]==mark and board[col+6]==mark):\n",
    "            won = True\n",
    "    if (board[1]==mark and board[5]==mark and board[9]==mark):\n",
    "        won = True\n",
    "    if (board[3]==mark and board[5]==mark and board[7]==mark):\n",
    "        won = True\n",
    "    return won"
   ]
  },
  {
   "cell_type": "markdown",
   "metadata": {},
   "source": [
    "**TEST Step 4:** run the win_check function against our test_board - it should return True"
   ]
  },
  {
   "cell_type": "code",
   "execution_count": 21,
   "metadata": {},
   "outputs": [
    {
     "data": {
      "text/plain": [
       "True"
      ]
     },
     "execution_count": 21,
     "metadata": {},
     "output_type": "execute_result"
    }
   ],
   "source": [
    "tt_win_check(test_board,'O')"
   ]
  },
  {
   "cell_type": "markdown",
   "metadata": {},
   "source": [
    "**Step 5: Write a function that uses the random module to randomly decide which player goes first. You may want to lookup random.randint() Return a string of which player went first.**"
   ]
  },
  {
   "cell_type": "code",
   "execution_count": 22,
   "metadata": {},
   "outputs": [
    {
     "data": {
      "text/plain": [
       "'2'"
      ]
     },
     "execution_count": 22,
     "metadata": {},
     "output_type": "execute_result"
    }
   ],
   "source": [
    "import random\n",
    "def tt_choose_first():\n",
    "    '''\n",
    "    which player goes first. just returns '1' or '2'\n",
    "    '''\n",
    "    if random.randint(0,1)==0:\n",
    "        player = '1'\n",
    "    else:\n",
    "        player = '2'\n",
    "    #return f'Player {player} goes first.'\n",
    "    return player\n",
    "tt_choose_first()"
   ]
  },
  {
   "cell_type": "markdown",
   "metadata": {},
   "source": [
    "**Step 6: Write a function that returns a boolean indicating whether a space on the board is freely available.**"
   ]
  },
  {
   "cell_type": "code",
   "execution_count": 23,
   "metadata": {},
   "outputs": [
    {
     "name": "stdout",
     "output_type": "stream",
     "text": [
      "False\n",
      "['#', 'X', 'O', 'X', 'O', 'O', 'O', 'X', 'O', 'X']\n"
     ]
    }
   ],
   "source": [
    "def tt_space_check(board, position):\n",
    "    return not (board[position].upper()=='X' or board[position].upper()=='O')\n",
    "print(tt_space_check(test_board,3))\n",
    "print(test_board)"
   ]
  },
  {
   "cell_type": "markdown",
   "metadata": {},
   "source": [
    "**Step 7: Write a function that checks if the board is full and returns a boolean value. True if full, False otherwise.**"
   ]
  },
  {
   "cell_type": "code",
   "execution_count": 24,
   "metadata": {},
   "outputs": [
    {
     "data": {
      "text/plain": [
       "False"
      ]
     },
     "execution_count": 24,
     "metadata": {},
     "output_type": "execute_result"
    }
   ],
   "source": [
    "def tt_full_board_check(board):\n",
    "    full = True\n",
    "    for i in range(1,10,1):\n",
    "        if tt_space_check(board,i)==True:\n",
    "            full = False\n",
    "    return full\n",
    "\n",
    "test_board = ['#','X','O','X','O','O','f','X','O','X']\n",
    "tt_full_board_check(test_board)"
   ]
  },
  {
   "cell_type": "markdown",
   "metadata": {},
   "source": [
    "**Step 8: Write a function that asks for a player's next position (as a number 1-9) and then uses the function from step 6 to check if it's a free position. If it is, then return the position for later use.**"
   ]
  },
  {
   "cell_type": "code",
   "execution_count": 25,
   "metadata": {},
   "outputs": [
    {
     "name": "stdout",
     "output_type": "stream",
     "text": [
      "['#', 'X', 'O', 'X', 'O', 'O', 'O', 'X', 'O', '']\n"
     ]
    }
   ],
   "source": [
    "test_board = ['#','X','O','X','O','O','O','X','O','']\n",
    "print(test_board)\n",
    "def tt_player_choice(board,player='One'):\n",
    "    '''\n",
    "    asks player what position to play next. takes board and 'player'\n",
    "    '''\n",
    "    ask = True\n",
    "    while ask:\n",
    "        next_position = int(input('Player {}, enter next position (1-9):  '.format(player)))\n",
    "        if tt_space_check(board,next_position)==True:\n",
    "            return next_position\n",
    "        else:\n",
    "            print('Spot taken, try again: ')\n",
    "            tt_display_board(board)\n",
    "\n",
    "        \n",
    "\n",
    "\n",
    "#tt_player_choice(test_board)\n",
    "#print(test_board)"
   ]
  },
  {
   "cell_type": "markdown",
   "metadata": {},
   "source": [
    "**Step 9: Write a function that asks the player if they want to play again and returns a boolean True if they do want to play again.**"
   ]
  },
  {
   "cell_type": "code",
   "execution_count": 26,
   "metadata": {},
   "outputs": [],
   "source": [
    "def tt_replay():\n",
    "    '''\n",
    "    asks if player wants to play again. no input args\n",
    "    '''\n",
    "    ask = input('Do you want to play again? Y/N    ')\n",
    "    if (ask.lower()==\"y\" or ask.lower()==\"yes\"):\n",
    "        return True\n",
    "\n",
    "#replay()\n",
    "    "
   ]
  },
  {
   "cell_type": "markdown",
   "metadata": {
    "collapsed": true
   },
   "source": [
    "**Step 10: Here comes the hard part! Use while loops and the functions you've made to run the game!**"
   ]
  },
  {
   "cell_type": "code",
   "execution_count": 14,
   "metadata": {},
   "outputs": [],
   "source": [
    "\n",
    "\n",
    "def play_game():\n",
    "    while True:\n",
    "        print('Welcome to Tic Tac Toe!')\n",
    "        # Set the game up here\n",
    "        game_board = ['#']+[' ']*9\n",
    "        #game_board = test_board\n",
    "        print('game board: \\n'+str(game_board))\n",
    "        tt_display_board(game_board)\n",
    "\n",
    "        # ask player one what marker they want to be. then player 2\n",
    "        # decide which player goes first. \n",
    "\n",
    "        first_player = tt_choose_first()\n",
    "        second_player = ''\n",
    "        if first_player == '1':\n",
    "            second_player == '2'\n",
    "        else:\n",
    "            second_player == '1'\n",
    "        print('Player {} goes first.'.format(first_player))\n",
    "        first_marker = tt_player_input(first_player)\n",
    "        if first_marker == 'X':\n",
    "            second_marker = 'O'\n",
    "        else:\n",
    "            second_marker = 'X'\n",
    "\n",
    "        #pass\n",
    "        game_on = True\n",
    "        while game_on:\n",
    "            #Player 1 Turn - ask for input. check for spot. place marker.\n",
    "            first_player_input = tt_player_choice(game_board,first_player)\n",
    "            tt_place_marker(game_board,first_marker,first_player_input)\n",
    "            tt_display_board(game_board)\n",
    "            \n",
    "            if tt_win_check(game_board,first_marker):\n",
    "                print(f'Player {first_player} wins!')\n",
    "                game_on = False\n",
    "                #continue or break here?\n",
    "                continue\n",
    "            \n",
    "            if tt_full_board_check(game_board):\n",
    "                game_on = False\n",
    "                print('Tie game.')\n",
    "                #continue or break here?\n",
    "                continue\n",
    "\n",
    "\n",
    "            # Player2's turn.\n",
    "            #Player 1 Turn - ask for input. check for spot. place marker.\n",
    "            second_player_input = tt_player_choice(game_board,second_player)\n",
    "            tt_place_marker(game_board,second_marker,second_player_input)\n",
    "            tt_display_board(game_board)\n",
    "            if tt_win_check(game_board,second_marker):\n",
    "                print(f'Player {second_player} wins!')\n",
    "                game_on = False\n",
    "                #continue or break here?\n",
    "                continue\n",
    "            if tt_full_board_check(game_board):\n",
    "                game_on = False\n",
    "                print('Tie game.')\n",
    "                #continue or break here?\n",
    "                continue\n",
    "\n",
    "\n",
    "\n",
    "\n",
    "        if not tt_replay():\n",
    "            print('end.')\n",
    "            break"
   ]
  },
  {
   "cell_type": "markdown",
   "metadata": {
    "collapsed": true
   },
   "source": [
    "## Good Job!"
   ]
  },
  {
   "cell_type": "code",
   "execution_count": 15,
   "metadata": {},
   "outputs": [
    {
     "name": "stdout",
     "output_type": "stream",
     "text": [
      "Welcome to Tic Tac Toe!\n",
      "game board: \n",
      "['#', ' ', ' ', ' ', ' ', ' ', ' ', ' ', ' ', ' ']\n",
      "\n",
      "\n",
      "     |     |     \n",
      "     |     |     \n",
      "_____|_____|_____\n",
      "     |     |     \n",
      "     |     |     \n",
      "_____|_____|_____\n",
      "     |     |     \n",
      "     |     |     \n",
      "     |     |     \n",
      "Player 1 goes first.\n",
      "Player 1 Select X or O\n",
      "x\n",
      "Player 1, enter next position (1-9):  1\n",
      "\n",
      "\n",
      "     |     |     \n",
      "  X  |     |     \n",
      "_____|_____|_____\n",
      "     |     |     \n",
      "     |     |     \n",
      "_____|_____|_____\n",
      "     |     |     \n",
      "     |     |     \n",
      "     |     |     \n",
      "diag: tt_win_check(game board, first marker) False\n",
      "diag: tt_full_board_check(game_board) False\n",
      "Player , enter next position (1-9):  3\n",
      "\n",
      "\n",
      "     |     |     \n",
      "  X  |     |  O  \n",
      "_____|_____|_____\n",
      "     |     |     \n",
      "     |     |     \n",
      "_____|_____|_____\n",
      "     |     |     \n",
      "     |     |     \n",
      "     |     |     \n",
      "Player 1, enter next position (1-9):  5\n",
      "\n",
      "\n",
      "     |     |     \n",
      "  X  |     |  O  \n",
      "_____|_____|_____\n",
      "     |     |     \n",
      "     |  X  |     \n",
      "_____|_____|_____\n",
      "     |     |     \n",
      "     |     |     \n",
      "     |     |     \n",
      "diag: tt_win_check(game board, first marker) False\n",
      "diag: tt_full_board_check(game_board) False\n",
      "Player , enter next position (1-9):  1\n",
      "Spot taken, try again: \n",
      "\n",
      "\n",
      "     |     |     \n",
      "  X  |     |  O  \n",
      "_____|_____|_____\n",
      "     |     |     \n",
      "     |  X  |     \n",
      "_____|_____|_____\n",
      "     |     |     \n",
      "     |     |     \n",
      "     |     |     \n",
      "Player , enter next position (1-9):  4\n",
      "\n",
      "\n",
      "     |     |     \n",
      "  X  |     |  O  \n",
      "_____|_____|_____\n",
      "     |     |     \n",
      "  O  |  X  |     \n",
      "_____|_____|_____\n",
      "     |     |     \n",
      "     |     |     \n",
      "     |     |     \n",
      "Player 1, enter next position (1-9):  9\n",
      "\n",
      "\n",
      "     |     |     \n",
      "  X  |     |  O  \n",
      "_____|_____|_____\n",
      "     |     |     \n",
      "  O  |  X  |     \n",
      "_____|_____|_____\n",
      "     |     |     \n",
      "     |     |  X  \n",
      "     |     |     \n",
      "diag: tt_win_check(game board, first marker) True\n",
      "Player 1 wins!\n",
      "Do you want to play again? Y/N    n\n",
      "end.\n"
     ]
    }
   ],
   "source": [
    "play_game()"
   ]
  },
  {
   "cell_type": "code",
   "execution_count": null,
   "metadata": {},
   "outputs": [],
   "source": []
  }
 ],
 "metadata": {
  "kernelspec": {
   "display_name": "Python 3",
   "language": "python",
   "name": "python3"
  },
  "language_info": {
   "codemirror_mode": {
    "name": "ipython",
    "version": 3
   },
   "file_extension": ".py",
   "mimetype": "text/x-python",
   "name": "python",
   "nbconvert_exporter": "python",
   "pygments_lexer": "ipython3",
   "version": "3.6.4"
  }
 },
 "nbformat": 4,
 "nbformat_minor": 1
}
