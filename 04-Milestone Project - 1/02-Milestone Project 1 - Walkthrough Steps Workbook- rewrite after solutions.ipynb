{
 "cells": [
  {
   "cell_type": "markdown",
   "metadata": {},
   "source": [
    "# Milestone Project 1: Walkthrough Steps Workbook\n",
    "\n",
    "Below is a set of steps for you to follow to try to create the Tic Tac Toe Milestone Project game!"
   ]
  },
  {
   "cell_type": "markdown",
   "metadata": {},
   "source": [
    "#### Some suggested tools before you get started:\n",
    "To take input from a user:\n",
    "\n",
    "    player1 = input(\"Please pick a marker 'X' or 'O'\")\n",
    "    \n",
    "Note that input() takes in a string. If you need an integer value, use\n",
    "\n",
    "    position = int(input('Please enter a number'))\n",
    "    \n",
    "<br>To clear the screen between moves:\n",
    "\n",
    "    from IPython.display import clear_output\n",
    "    clear_output()\n",
    "    \n",
    "Note that clear_output() will only work in jupyter. To clear the screen in other IDEs, consider:\n",
    "\n",
    "    print('\\n'*100)\n",
    "    \n",
    "This scrolls the previous board up out of view. Now on to the program!"
   ]
  },
  {
   "cell_type": "markdown",
   "metadata": {},
   "source": [
    "**Step 1: Write a function that can print out a board. Set up your board as a list, where each index 1-9 corresponds with a number on a number pad, so you get a 3 by 3 board representation.**"
   ]
  },
  {
   "cell_type": "code",
   "execution_count": 1,
   "metadata": {
    "scrolled": true
   },
   "outputs": [],
   "source": [
    "from IPython.display import clear_output\n",
    "\n",
    "def display_board(board):\n",
    "    clear_output()\n",
    "    pass\n",
    "\n",
    "\n",
    "        \n",
    "            \n",
    "        "
   ]
  },
  {
   "cell_type": "markdown",
   "metadata": {},
   "source": [
    "**TEST Step 1:** run your function on a test version of the board list, and make adjustments as necessary"
   ]
  },
  {
   "cell_type": "code",
   "execution_count": 2,
   "metadata": {},
   "outputs": [
    {
     "name": "stdout",
     "output_type": "stream",
     "text": [
      "\n",
      "\n",
      "     |     |     \n",
      "  X  |  O  |  X  \n",
      "_____|_____|_____\n",
      "     |     |     \n",
      "  O  |  O  |  O  \n",
      "_____|_____|_____\n",
      "     |     |     \n",
      "  X  |  O  |  X  \n",
      "     |     |     \n"
     ]
    }
   ],
   "source": [
    "#test_board = ['#','1','2','3','4','5','6','7','8','9']\n",
    "test_board = ['#','X','O','X','O','O','O','X','O','X']\n",
    "tt_display_board(test_board)"
   ]
  },
  {
   "cell_type": "markdown",
   "metadata": {},
   "source": [
    "**Step 2: Write a function that can take in a player input and assign their marker as 'X' or 'O'. Think about using *while* loops to continually ask until you get a correct answer.**"
   ]
  },
  {
   "cell_type": "code",
   "execution_count": 3,
   "metadata": {},
   "outputs": [],
   "source": [
    "def tt_player_input(string):\n",
    "    '''\n",
    "    asks player for their marker, either X or O, checks if its ither\n",
    "    '''\n",
    "    player_input = None\n",
    "    ask = True\n",
    "    while ask:\n",
    "        player_input = str(input('Player {} Select X or O\\n'.format(string)))\n",
    "        if str(player_input).upper() == 'X' or str(player_input).upper()=='O':\n",
    "            ask = False\n",
    "            return player_input.upper()\n",
    "        else:\n",
    "            print('Unacceptable. Try again.')\n",
    "    print('Player selection is: '+player_input)"
   ]
  },
  {
   "cell_type": "markdown",
   "metadata": {},
   "source": [
    "**TEST Step 2:** run the function to make sure it returns the desired output"
   ]
  },
  {
   "cell_type": "code",
   "execution_count": 4,
   "metadata": {},
   "outputs": [],
   "source": [
    "#tt_player_input('1')"
   ]
  },
  {
   "cell_type": "markdown",
   "metadata": {},
   "source": [
    "**Step 3: Write a function that takes in the board list object, a marker ('X' or 'O'), and a desired position (number 1-9) and assigns it to the board.**"
   ]
  },
  {
   "cell_type": "code",
   "execution_count": 5,
   "metadata": {},
   "outputs": [],
   "source": [
    "def tt_place_marker(board, marker, position):\n",
    "    '''\n",
    "    place a -marker on the -board at -position. \n",
    "    does not check. it assigns immediately\n",
    "    returns board.\n",
    "    '''\n",
    "    board[position] = marker\n",
    "    return board\n",
    "    "
   ]
  },
  {
   "cell_type": "markdown",
   "metadata": {},
   "source": [
    "**TEST Step 3:** run the place marker function using test parameters and display the modified board"
   ]
  },
  {
   "cell_type": "code",
   "execution_count": 6,
   "metadata": {},
   "outputs": [
    {
     "name": "stdout",
     "output_type": "stream",
     "text": [
      "\n",
      "\n",
      "     |     |     \n",
      "  X  |  O  |  X  \n",
      "_____|_____|_____\n",
      "     |     |     \n",
      "  O  |  O  |  O  \n",
      "_____|_____|_____\n",
      "     |     |     \n",
      "  X  |  O  |  X  \n",
      "     |     |     \n"
     ]
    }
   ],
   "source": [
    "tt_place_marker(test_board,'X',3)\n",
    "tt_display_board(test_board)"
   ]
  },
  {
   "cell_type": "markdown",
   "metadata": {},
   "source": [
    "**Step 4: Write a function that takes in a board and a mark (X or O) and then checks to see if that mark has won. **"
   ]
  },
  {
   "cell_type": "code",
   "execution_count": 7,
   "metadata": {},
   "outputs": [],
   "source": [
    "def tt_win_check(board, mark):\n",
    "    '''\n",
    "    checks if mark wins by 3 row checks, 3 col checks, and 2 diagnal checks.\n",
    "    '''\n",
    "    won = False\n",
    "    for row in range(1,10,3):\n",
    "        if (board[row]==mark and board[row+1]==mark and board[row+2]==mark):\n",
    "            won = True\n",
    "    for col in range(1,4,1):\n",
    "        if (board[col]==mark and board[col+3]==mark and board[col+6]==mark):\n",
    "            won = True\n",
    "    if (board[1]==mark and board[5]==mark and board[9]==mark):\n",
    "        won = True\n",
    "    if (board[3]==mark and board[5]==mark and board[7]==mark):\n",
    "        won = True\n",
    "    return won"
   ]
  },
  {
   "cell_type": "markdown",
   "metadata": {},
   "source": [
    "**TEST Step 4:** run the win_check function against our test_board - it should return True"
   ]
  },
  {
   "cell_type": "code",
   "execution_count": 8,
   "metadata": {},
   "outputs": [
    {
     "data": {
      "text/plain": [
       "True"
      ]
     },
     "execution_count": 8,
     "metadata": {},
     "output_type": "execute_result"
    }
   ],
   "source": [
    "tt_win_check(test_board,'O')"
   ]
  },
  {
   "cell_type": "markdown",
   "metadata": {},
   "source": [
    "**Step 5: Write a function that uses the random module to randomly decide which player goes first. You may want to lookup random.randint() Return a string of which player went first.**"
   ]
  },
  {
   "cell_type": "code",
   "execution_count": 9,
   "metadata": {},
   "outputs": [
    {
     "data": {
      "text/plain": [
       "'2'"
      ]
     },
     "execution_count": 9,
     "metadata": {},
     "output_type": "execute_result"
    }
   ],
   "source": [
    "import random\n",
    "def tt_choose_first():\n",
    "    '''\n",
    "    which player goes first. just returns '1' or '2'\n",
    "    '''\n",
    "    if random.randint(0,1)==0:\n",
    "        player = '1'\n",
    "    else:\n",
    "        player = '2'\n",
    "    #return f'Player {player} goes first.'\n",
    "    return player\n",
    "tt_choose_first()"
   ]
  },
  {
   "cell_type": "markdown",
   "metadata": {},
   "source": [
    "**Step 6: Write a function that returns a boolean indicating whether a space on the board is freely available.**"
   ]
  },
  {
   "cell_type": "code",
   "execution_count": 10,
   "metadata": {},
   "outputs": [
    {
     "name": "stdout",
     "output_type": "stream",
     "text": [
      "False\n",
      "['#', 'X', 'O', 'X', 'O', 'O', 'O', 'X', 'O', 'X']\n"
     ]
    }
   ],
   "source": [
    "def tt_space_check(board, position):\n",
    "    return not (board[position].upper()=='X' or board[position].upper()=='O')\n",
    "print(tt_space_check(test_board,3))\n",
    "print(test_board)"
   ]
  },
  {
   "cell_type": "markdown",
   "metadata": {},
   "source": [
    "**Step 7: Write a function that checks if the board is full and returns a boolean value. True if full, False otherwise.**"
   ]
  },
  {
   "cell_type": "code",
   "execution_count": 11,
   "metadata": {},
   "outputs": [
    {
     "data": {
      "text/plain": [
       "False"
      ]
     },
     "execution_count": 11,
     "metadata": {},
     "output_type": "execute_result"
    }
   ],
   "source": [
    "def tt_full_board_check(board):\n",
    "    full = True\n",
    "    for i in range(1,10,1):\n",
    "        if tt_space_check(board,i)==True:\n",
    "            full = False\n",
    "    return full\n",
    "\n",
    "test_board = ['#','X','O','X','O','O','f','X','O','X']\n",
    "tt_full_board_check(test_board)"
   ]
  },
  {
   "cell_type": "markdown",
   "metadata": {},
   "source": [
    "**Step 8: Write a function that asks for a player's next position (as a number 1-9) and then uses the function from step 6 to check if it's a free position. If it is, then return the position for later use.**"
   ]
  },
  {
   "cell_type": "code",
   "execution_count": 12,
   "metadata": {},
   "outputs": [
    {
     "name": "stdout",
     "output_type": "stream",
     "text": [
      "['#', 'X', 'O', 'X', 'O', 'O', 'O', 'X', 'O', '']\n"
     ]
    }
   ],
   "source": [
    "test_board = ['#','X','O','X','O','O','O','X','O','']\n",
    "print(test_board)\n",
    "def tt_player_choice(board,player='One'):\n",
    "    '''\n",
    "    asks player what position to play next. takes board and 'player'\n",
    "    '''\n",
    "    ask = True\n",
    "    while ask:\n",
    "        next_position = int(input('Player {}, enter next position (1-9):  '.format(player)))\n",
    "#         if type(next_position) != 'int':\n",
    "#             print('Try a real integer this time.')\n",
    "#         if 1 > next_position > 9:\n",
    "#             print('Only numbers 1-9 are valid.')\n",
    "        if tt_space_check(board,next_position)==True:\n",
    "            return next_position\n",
    "        else:\n",
    "            print('Spot taken, try again: ')\n",
    "            tt_display_board(board)\n",
    "\n",
    "        \n",
    "\n",
    "\n",
    "#tt_player_choice(test_board)\n",
    "#print(test_board)"
   ]
  },
  {
   "cell_type": "markdown",
   "metadata": {},
   "source": [
    "**Step 9: Write a function that asks the player if they want to play again and returns a boolean True if they do want to play again.**"
   ]
  },
  {
   "cell_type": "code",
   "execution_count": 13,
   "metadata": {},
   "outputs": [],
   "source": [
    "def tt_replay():\n",
    "    '''\n",
    "    asks if player wants to play again. no input args\n",
    "    '''\n",
    "    ask = input('Do you want to play again? Y/N    ')\n",
    "    if (ask.lower()==\"y\" or ask.lower()==\"yes\"):\n",
    "        return True\n",
    "\n",
    "#replay()\n",
    "    "
   ]
  },
  {
   "cell_type": "markdown",
   "metadata": {
    "collapsed": true
   },
   "source": [
    "**Step 10: Here comes the hard part! Use while loops and the functions you've made to run the game!**"
   ]
  },
  {
   "cell_type": "code",
   "execution_count": 14,
   "metadata": {},
   "outputs": [],
   "source": [
    "\n",
    "\n",
    "def play_game():\n",
    "    while True:\n",
    "        print('Welcome to Tic Tac Toe!')\n",
    "        # Set the game up here\n",
    "        game_board = ['#']+[' ']*9\n",
    "        #game_board = test_board\n",
    "        print('game board: \\n'+str(game_board))\n",
    "        tt_display_board(game_board)\n",
    "\n",
    "        # ask player one what marker they want to be. then player 2\n",
    "        # decide which player goes first. \n",
    "\n",
    "        first_player = tt_choose_first()\n",
    "        print('diag: first player: '+first_player)\n",
    "        second_player = ''\n",
    "        if str(first_player) == '1':\n",
    "            second_player == '2'\n",
    "        else:\n",
    "            second_player == '1'\n",
    "        print('Player {} goes first.'.format(first_player))\n",
    "        first_marker = tt_player_input(first_player)\n",
    "        if first_marker == 'X':\n",
    "            second_marker = 'O'\n",
    "        else:\n",
    "            second_marker = 'X'\n",
    "\n",
    "        #pass\n",
    "        game_on = True\n",
    "        while game_on:\n",
    "            #Player 1 Turn - ask for input. check for spot. place marker.\n",
    "            tt_display_board(game_board)\n",
    "            first_player_input = tt_player_choice(game_board,first_player)\n",
    "            tt_place_marker(game_board,first_marker,first_player_input)\n",
    "            \n",
    "            if tt_win_check(game_board,first_marker):\n",
    "                print(f'Player {first_player} wins!')\n",
    "                game_on = False\n",
    "                #continue or break here?\n",
    "                continue\n",
    "            \n",
    "            if tt_full_board_check(game_board):\n",
    "                game_on = False\n",
    "                print('Tie game.')\n",
    "                #continue or break here?\n",
    "                continue\n",
    "            clear_output()\n",
    "            tt_display_board(game_board)\n",
    "            \n",
    "            # Player2's turn.\n",
    "            #Player 1 Turn - ask for input. check for spot. place marker.\n",
    "            \n",
    "            second_player_input = tt_player_choice(game_board,second_player)\n",
    "            tt_place_marker(game_board,second_marker,second_player_input)\n",
    "            tt_display_board(game_board)\n",
    "            if tt_win_check(game_board,second_marker):\n",
    "                print(f'Player {second_player} wins!')\n",
    "                game_on = False\n",
    "                #continue or break here?\n",
    "                continue\n",
    "            if tt_full_board_check(game_board):\n",
    "                game_on = False\n",
    "                print('Tie game.')\n",
    "                print\n",
    "                #continue or break here?\n",
    "                continue\n",
    "            clear_output()\n",
    "            tt_display_board(game_board)\n",
    "\n",
    "\n",
    "\n",
    "        if not tt_replay():\n",
    "            print('end.')\n",
    "            break"
   ]
  },
  {
   "cell_type": "markdown",
   "metadata": {
    "collapsed": true
   },
   "source": [
    "## Good Job!"
   ]
  },
  {
   "cell_type": "code",
   "execution_count": 20,
   "metadata": {},
   "outputs": [
    {
     "name": "stdout",
     "output_type": "stream",
     "text": [
      "\n",
      "\n",
      "     |     |     \n",
      "  X  |  O  |     \n",
      "_____|_____|_____\n",
      "     |     |     \n",
      "     |  O  |  O  \n",
      "_____|_____|_____\n",
      "     |     |     \n",
      "  X  |     |  X  \n",
      "     |     |     \n",
      "\n",
      "\n",
      "     |     |     \n",
      "  X  |  O  |     \n",
      "_____|_____|_____\n",
      "     |     |     \n",
      "     |  O  |  O  \n",
      "_____|_____|_____\n",
      "     |     |     \n",
      "  X  |     |  X  \n",
      "     |     |     \n",
      "Player 2, enter next position (1-9):  4\n",
      "Player 2 wins!\n",
      "Do you want to play again? Y/N    n\n",
      "end.\n"
     ]
    }
   ],
   "source": [
    "play_game()"
   ]
  },
  {
   "cell_type": "markdown",
   "metadata": {},
   "source": [
    "\n"
   ]
  }
 ],
 "metadata": {
  "kernelspec": {
   "display_name": "Python 3",
   "language": "python",
   "name": "python3"
  },
  "language_info": {
   "codemirror_mode": {
    "name": "ipython",
    "version": 3
   },
   "file_extension": ".py",
   "mimetype": "text/x-python",
   "name": "python",
   "nbconvert_exporter": "python",
   "pygments_lexer": "ipython3",
   "version": "3.6.4"
  }
 },
 "nbformat": 4,
 "nbformat_minor": 1
}
