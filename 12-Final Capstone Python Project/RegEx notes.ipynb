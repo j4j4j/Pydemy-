{
 "cells": [
  {
   "cell_type": "markdown",
   "metadata": {},
   "source": [
    "# Notes from ATBS:\n",
    "### https://automatetheboringstuff.com/chapter7/\n",
    "\n",
    "## basic outline:\n",
    "1. Import the regex module with import re.\n",
    "\n",
    "2. Create a Regex object with the re.compile() function. (Remember to use a raw string.)\n",
    "\n",
    "3. Pass the string you want to search into the Regex object’s search() method. This returns a Match object.\n",
    "\n",
    "4. Call the Match object’s group() method to return a string of the actual matched text."
   ]
  },
  {
   "cell_type": "markdown",
   "metadata": {},
   "source": [
    "## Notes\n",
    "* to import: `import re` <br>\n",
    "* need to pass escape characters into RegEx, so a raw string is easier than using double \\ to tell python you want an actual slash. i.e.: <br>\n",
    "`PhoneNumbRegEx = re.compile(r'\\d{3}-\\d{3}-\\d{4}')` is better than `PhoneNumbRegEx = re.compile('\\\\d{3}-\\\\d{3}-\\\\d{4}')`\n",
    "* {#} for repeats"
   ]
  },
  {
   "cell_type": "markdown",
   "metadata": {},
   "source": [
    "#### Grouping:\n",
    "\n",
    "* Adding parentheses will create groups in the regex: (\\d\\d\\d)-(\\d\\d\\d-\\d\\d\\d\\d). Then you can use the group() match object method to grab the matching text from just one group.\n",
    "\n",
    "    * The first set of parentheses in a regex string will be group 1. The second set will be group 2. By passing the integer 1 or 2 to the group() match object method, you can grab different parts of the matched text. Passing 0 or nothing to the group() method will return the entire matched text. Enter the following into the interactive shell:\n",
    "\n",
    "``` \n",
    ">>> phoneNumRegex = re.compile(r'(\\d\\d\\d)-(\\d\\d\\d-\\d\\d\\d\\d)')\n",
    ">>> mo = phoneNumRegex.search('My number is 415-555-4242.')\n",
    ">>> mo.group(1)\n",
    "'415'\n",
    ">>> mo.group(2)\n",
    "'555-4242'\n",
    ">>> mo.group(0)\n",
    "'415-555-4242'\n",
    "\n",
    ">>> mo.groups()\n",
    "('415', '555-4242')\n",
    ">>> areaCode, mainNumber = mo.groups()\n",
    ">>> print(areaCode)\n",
    "415\n",
    ">>> print(mainNumber)\n",
    "555-4242```"
   ]
  },
  {
   "cell_type": "markdown",
   "metadata": {},
   "source": [
    "#### Matching Multiple Groups with the Pipe\n",
    "The | character is called a pipe. You can use it anywhere you want to match one of many expressions. For example, the regular expression r'Batman|Tina Fey' will match either 'Batman' or 'Tina Fey'.\n",
    "\n",
    "When both Batman and Tina Fey occur in the searched string, the first occurrence of matching text will be returned as the Match object. Enter the following into the interactive shell:"
   ]
  },
  {
   "cell_type": "markdown",
   "metadata": {},
   "source": [
    "You can also use the pipe to match one of several patterns as part of your regex. For example, say you wanted to match any of the strings 'Batman', 'Batmobile', 'Batcopter', and 'Batbat'. Since all these strings start with Bat, it would be nice if you could specify that prefix only once. This can be done with parentheses. Enter the following into the interactive shell:\n",
    "\n",
    "```\n",
    ">>> batRegex = re.compile(r'Bat(man|mobile|copter|bat)')\n",
    ">>> mo = batRegex.search('Batmobile lost a wheel')\n",
    ">>> mo.group()\n",
    "'Batmobile'\n",
    ">>> mo.group(1)\n",
    "'mobile'\n",
    "```\n",
    "#### Grouping with pipe\n",
    "You can also use the pipe to match one of several patterns as part of your regex. For example, <font color=red>say you wanted to match any of the strings 'Batman', 'Batmobile', 'Batcopter', and 'Batbat'.</font> Since all these strings start with Bat, it would be nice if you could specify that prefix only once. This can be done with parentheses. Enter the following into the interactive shell:\n",
    "\n",
    "\n",
    "``` \n",
    ">>> batRegex = re.compile(r'Bat(man|mobile|copter|bat)')\n",
    ">>> mo = batRegex.search('Batmobile lost a wheel')\n",
    ">>> mo.group()\n",
    "'Batmobile'\n",
    ">>> mo.group(1)\n",
    "'mobile'```"
   ]
  },
  {
   "cell_type": "markdown",
   "metadata": {},
   "source": [
    "#### Matching Optional, Zero or One instance (?)\n",
    "Sometimes there is a pattern that you want to match only optionally. That is, the regex should find a match whether or not that bit of text is there. The ? character flags the group that precedes it as an optional part of the pattern. For example, enter the following into the interactive shell:\n",
    "\n",
    "\n",
    "```>>> batRegex = re.compile(r'Bat(wo)?man')```\n",
    "\n",
    "Can combine with groups ():\n",
    "```>>> phoneRegex = re.compile(r'(\\d\\d\\d-)?\\d\\d\\d-\\d\\d\\d\\d')```"
   ]
  },
  {
   "cell_type": "markdown",
   "metadata": {},
   "source": [
    "#### Matching Zero or More instances (*)\n",
    "The * (called the star or asterisk) means “match zero or more”—the group that precedes the star can occur any number of times in the text. It can be completely absent or repeated over and over again. Let’s look at the Batman example again.\n",
    "\n",
    "\n",
    "``` \n",
    ">>> batRegex = re.compile(r'Bat(wo)*man')\n",
    ">>> mo3 = batRegex.search('The Adventures of Batwowowowoman')\n",
    ">>> mo3.group()\n",
    "'Batwowowowoman'```\n"
   ]
  },
  {
   "cell_type": "markdown",
   "metadata": {},
   "source": [
    "#### Matching One or More instances (+)\n",
    "Matching One or More with the Plus\n",
    "While * means “match zero or more,” the + (or plus) means “match one or more.” Unlike the star, which does not require its group to appear in the matched string, the group preceding a plus must appear at least once. It is not optional. Enter the following into the interactive shell, and compare it with the star regexes in the previous section:\n",
    "\n",
    "\n",
    "```\n",
    ">>> batRegex = re.compile(r'Bat(wo)+man')```"
   ]
  },
  {
   "cell_type": "markdown",
   "metadata": {},
   "source": [
    "#### Matching Specific Repetitions with Curly Brackets\n",
    "Match reptitions with curly brackets: {3}\n",
    "format: {min,max}, can be a range: {3,5}, {3,}, {,5}\n",
    "Identical: \n",
    "```\n",
    "(Ha){3,5}\n",
    "((Ha)(Ha)(Ha))|((Ha)(Ha)(Ha)(Ha))|((Ha)(Ha)(Ha)(Ha)(Ha))```"
   ]
  },
  {
   "cell_type": "markdown",
   "metadata": {},
   "source": [
    "#### Greedy or non greedy matching (?) \n",
    "Python re defaults to 'greedy', meaning if you give it a range, {3,5} it will prioritize the largest (5 in this case).\n",
    "if you want it to be non-greedy, it will spit out the shortest in the range: {3,5}?"
   ]
  },
  {
   "cell_type": "markdown",
   "metadata": {},
   "source": [
    "#### FindAll method\n",
    ".search() finds the first instance. .findall() finds all.\n",
    "\n",
    "_To summarize what the findall() method returns, remember the following:_\n",
    "\n",
    "_When called on a regex with no groups, such as \\d\\d\\d-\\d\\d\\d-\\d\\d\\d\\d, the method findall() returns a list of string matches, such as ['415-555-9999', '212-555-0000']._\n",
    "\n",
    "_When called on a regex that has groups, such as (\\d\\d\\d)-(\\d\\d\\d)-(\\d\\ d\\d\\d), the method findall() returns a list of tuples of strings (one string for each group), such as [('415', '555', '9999'), ('212', '555', '0000')]._"
   ]
  },
  {
   "cell_type": "markdown",
   "metadata": {},
   "source": [
    "#### Character Classes\n",
    "\n",
    "\n",
    "\\d Any numeric digit from 0 to 9.\n",
    "\n",
    "\\D Any character that is not a numeric digit from 0 to 9.\n",
    "\n",
    "\\w Any letter, numeric digit, or the underscore character. (Think of this as matching “word” characters.)\n",
    "\n",
    "\\W Any character that is not a letter, numeric digit, or the underscore character.\n",
    "\n",
    "\\s Any space, tab, or newline character. (Think of this as matching “space” characters.)\n",
    "\n",
    "\\S Any character that is not a space, tab, or newline\n",
    "\n",
    "example:\n",
    "```\n",
    ">>> xmasRegex = re.compile(r'\\d+\\s\\w+')\n",
    ">>> xmasRegex.findall('12 drummers, 11 pipers, 10 lords, 9 ladies, 8 maids, 7\n",
    "swans, 6 geese, 5 rings, 4 birds, 3 hens, 2 doves, 1 partridge')\n",
    "['12 drummers', '11 pipers', '10 lords', '9 ladies', '8 maids', '7 swans', '6\n",
    "geese', '5 rings', '4 birds', '3 hens', '2 doves', '1 partridge']\n",
    "```"
   ]
  },
  {
   "cell_type": "markdown",
   "metadata": {},
   "source": [
    "#### creating your own character class ([])\n",
    "* just use [], and add ranges using -.\n",
    "* a ^ after a bracket basically means negative class. [^1-5] looks for NOT 1-5.\n",
    "* Note that inside the square brackets, the normal regular expression symbols are not interpreted as such. <font color = red>This means you do not need to escape the  ., *, ?, or () characters with a preceding backslash.</font> For example, the character class [0-5.] will match digits 0 to 5 and a period. You do not need to write it as [0-5\\.]."
   ]
  },
  {
   "cell_type": "markdown",
   "metadata": {},
   "source": [
    "#### The Caret and Dollar Sign Characters\n",
    "You can also use the caret symbol (^) at the start of a regex to indicate that a match must occur at the beginning of the searched text. Likewise, you can put a dollar sign \\$ at the end of the regex to indicate the string must end with this regex pattern. And you can use the ^ and $ together to indicate that the entire string must match the regex—that is, it’s not enough for a match to be made on some subset of the string."
   ]
  },
  {
   "cell_type": "markdown",
   "metadata": {},
   "source": [
    "#### The Wildcard Character\n",
    "The . (or dot) character in a regular expression is called a wildcard and will match any character except for a newline. For example, enter the following into the interactive shell:\n",
    "\n",
    "```\n",
    ">>> atRegex = re.compile(r'.at')\n",
    ">>> atRegex.findall('The cat in the hat sat on the flat mat.')\n",
    "['cat', 'hat', 'sat', 'lat', 'mat']\n",
    "Remember that the dot character will match just one character, which is why the match for the text flat in the previous example matched only lat. To match an actual dot, escape the dot with a backslash: \\..\n",
    "```\n"
   ]
  },
  {
   "cell_type": "markdown",
   "metadata": {},
   "source": [
    "#### Matching Everything with Dot-Star\n",
    "Sometimes you will want to match everything and anything. For example, say you want to match the string 'First Name:', followed by any and all text, followed by 'Last Name:', and then followed by anything again. You can use the dot-star (.*) to stand in for that “anything.” Remember that the dot character means “any single character except the newline,” and the star character means “zero or more of the preceding character.”\n",
    "\n",
    "Enter the following into the interactive shell:\n",
    "\n",
    "```\n",
    ">>> nameRegex = re.compile(r'First Name: (.*) Last Name: (.*)')\n",
    ">>> mo = nameRegex.search('First Name: Al Last Name: Sweigart')\n",
    ">>> mo.group(1)\n",
    "'Al'\n",
    ">>> mo.group(2)\n",
    "'Sweigart'\n",
    "The dot-star uses greedy mode: It will always try to match as much text as possible. To match any and all text in a nongreedy fashion, use the dot, star, and question mark (.*?). Like with curly brackets, the question mark tells Python to match in a nongreedy way.\n",
    "```"
   ]
  },
  {
   "cell_type": "markdown",
   "metadata": {},
   "source": [
    "#### Matching Newlines with the Dot Character\n",
    "The dot-star will match everything except a newline. By passing re.DOTALL as the second argument to re.compile(), you can make the dot character match all characters, including the newline character."
   ]
  },
  {
   "cell_type": "markdown",
   "metadata": {},
   "source": [
    "#### Case-Insensitive Matching\n",
    "Normally, regular expressions match text with the exact casing you specify. But sometimes you care only about matching the letters without worrying whether they’re uppercase or lowercase. To make your regex case-insensitive, you can pass re.IGNORECASE or re.I as a second argument to re.compile()."
   ]
  },
  {
   "cell_type": "markdown",
   "metadata": {},
   "source": [
    "#### Substituting Strings with the sub() Method\n",
    "Regular expressions can not only find text patterns but can also substitute new text in place of those patterns. The sub() method for Regex objects is passed two arguments. The first argument is a string to replace any matches. The second is the string for the regular expression. The sub() method returns a string with the substitutions applied.\n",
    "\n",
    "For example, enter the following into the interactive shell:\n",
    "\n",
    "```\n",
    ">>> namesRegex = re.compile(r'Agent \\w+')\n",
    ">>> namesRegex.sub('CENSORED', 'Agent Alice gave the secret documents to Agent Bob.')\n",
    "'CENSORED gave the secret documents to CENSORED.'\n",
    "Sometimes you may need to use the matched text itself as part of the substitution. In the first argument to sub(), you can type \\1, \\2, \\3, and so on, to mean “Enter the text of group 1, 2, 3, and so on, in the substitution.”\n",
    "```\n",
    "For example, say you want to censor the names of the secret agents by showing just the first letters of their names. To do this, you could use the regex Agent (\\w)\\w* and pass r'\\1****' as the first argument to sub(). The \\1 in that string will be replaced by whatever text was matched by group 1—that is, the (\\w) group of the regular expression.\n",
    "\n",
    "```\n",
    ">>> agentNamesRegex = re.compile(r'Agent (\\w)\\w*')\n",
    ">>> agentNamesRegex.sub(r'\\1****', 'Agent Alice told Agent Carol that Agent\n",
    "Eve knew Agent Bob was a double agent.')\n",
    "A**** told C**** that E**** knew B**** was a double agent.'\n",
    "```\n"
   ]
  },
  {
   "cell_type": "markdown",
   "metadata": {},
   "source": [
    "####  Managing Complex Regexes\n",
    "Regular expressions are fine if the text pattern you need to match is simple. But matching complicated text patterns might require long, convoluted regular expressions. You can mitigate this by telling the re.compile() function to ignore whitespace and comments inside the regular expression string. This “verbose mode” can be enabled by passing the variable re.VERBOSE as the second argument to re.compile().\n",
    "\n",
    "Now instead of a hard-to-read regular expression like this:\n",
    "\n",
    "```\n",
    "phoneRegex = re.compile(r'((\\d{3}|\\(\\d{3}\\))?(\\s|-|\\.)?\\d{3}(\\s|-|\\.)\\d{4}\n",
    "(\\s*(ext|x|ext.)\\s*\\d{2,5})?)')\n",
    "```\n",
    "you can spread the regular expression over multiple lines with comments like this:\n",
    "\n",
    "```\n",
    "phoneRegex = re.compile(r'''(\n",
    "    (\\d{3}|\\(\\d{3}\\))?            # area code\n",
    "    (\\s|-|\\.)?                    # separator\n",
    "    \\d{3}                         # first 3 digits\n",
    "    (\\s|-|\\.)                     # separator\n",
    "    \\d{4}                         # last 4 digits\n",
    "    (\\s*(ext|x|ext.)\\s*\\d{2,5})?  # extension\n",
    "    )''', re.VERBOSE)\n",
    "    ```\n",
    "   \n",
    "Note how the previous example uses the triple-quote syntax (''') to create a multiline string so that you can spread the regular expression definition over many lines, making it much more legible.\n",
    "\n",
    "The comment rules inside the regular expression string are the same as regular Python code: The # symbol and everything after it to the end of the line are ignored. Also, the extra spaces inside the multiline string for the regular expression are not considered part of the text pattern to be matched. This lets you organize the regular expression so it’s easier to read."
   ]
  },
  {
   "cell_type": "code",
   "execution_count": null,
   "metadata": {},
   "outputs": [],
   "source": []
  }
 ],
 "metadata": {
  "kernelspec": {
   "display_name": "Python 3",
   "language": "python",
   "name": "python3"
  },
  "language_info": {
   "codemirror_mode": {
    "name": "ipython",
    "version": 3
   },
   "file_extension": ".py",
   "mimetype": "text/x-python",
   "name": "python",
   "nbconvert_exporter": "python",
   "pygments_lexer": "ipython3",
   "version": "3.6.4"
  }
 },
 "nbformat": 4,
 "nbformat_minor": 2
}
