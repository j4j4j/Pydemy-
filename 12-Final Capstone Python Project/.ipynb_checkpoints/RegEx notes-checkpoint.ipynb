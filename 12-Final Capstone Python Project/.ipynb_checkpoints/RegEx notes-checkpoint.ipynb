{
 "cells": [
  {
   "cell_type": "markdown",
   "metadata": {},
   "source": [
    "# Notes from ATBS:\n",
    "### https://automatetheboringstuff.com/chapter7/\n",
    "\n",
    "## basic outline:\n",
    "1. Import the regex module with import re.\n",
    "\n",
    "2. Create a Regex object with the re.compile() function. (Remember to use a raw string.)\n",
    "\n",
    "3. Pass the string you want to search into the Regex object’s search() method. This returns a Match object.\n",
    "\n",
    "4. Call the Match object’s group() method to return a string of the actual matched text."
   ]
  },
  {
   "cell_type": "markdown",
   "metadata": {},
   "source": [
    "## Notes\n",
    "* to import: `import re` <br>\n",
    "* need to pass escape characters into RegEx, so a raw string is easier than using double \\ to tell python you want an actual slash. i.e.: <br>\n",
    "`PhoneNumbRegEx = re.compile(r'\\d{3}-\\d{3}-\\d{4}')` is better than `PhoneNumbRegEx = re.compile('\\\\d{3}-\\\\d{3}-\\\\d{4}')`\n",
    "* {#} for repeats"
   ]
  },
  {
   "cell_type": "markdown",
   "metadata": {},
   "source": [
    "#### Grouping:\n",
    "\n",
    "* Adding parentheses will create groups in the regex: (\\d\\d\\d)-(\\d\\d\\d-\\d\\d\\d\\d). Then you can use the group() match object method to grab the matching text from just one group.\n",
    "\n",
    "    * The first set of parentheses in a regex string will be group 1. The second set will be group 2. By passing the integer 1 or 2 to the group() match object method, you can grab different parts of the matched text. Passing 0 or nothing to the group() method will return the entire matched text. Enter the following into the interactive shell:\n",
    "\n",
    "``` \n",
    ">>> phoneNumRegex = re.compile(r'(\\d\\d\\d)-(\\d\\d\\d-\\d\\d\\d\\d)')\n",
    ">>> mo = phoneNumRegex.search('My number is 415-555-4242.')\n",
    ">>> mo.group(1)\n",
    "'415'\n",
    ">>> mo.group(2)\n",
    "'555-4242'\n",
    ">>> mo.group(0)\n",
    "'415-555-4242'\n",
    "\n",
    ">>> mo.groups()\n",
    "('415', '555-4242')\n",
    ">>> areaCode, mainNumber = mo.groups()\n",
    ">>> print(areaCode)\n",
    "415\n",
    ">>> print(mainNumber)\n",
    "555-4242```"
   ]
  },
  {
   "cell_type": "markdown",
   "metadata": {},
   "source": [
    "#### Matching Multiple Groups with the Pipe\n",
    "The | character is called a pipe. You can use it anywhere you want to match one of many expressions. For example, the regular expression r'Batman|Tina Fey' will match either 'Batman' or 'Tina Fey'.\n",
    "\n",
    "When both Batman and Tina Fey occur in the searched string, the first occurrence of matching text will be returned as the Match object. Enter the following into the interactive shell:"
   ]
  },
  {
   "cell_type": "markdown",
   "metadata": {},
   "source": [
    "You can also use the pipe to match one of several patterns as part of your regex. For example, say you wanted to match any of the strings 'Batman', 'Batmobile', 'Batcopter', and 'Batbat'. Since all these strings start with Bat, it would be nice if you could specify that prefix only once. This can be done with parentheses. Enter the following into the interactive shell:\n",
    "\n",
    "```\n",
    ">>> batRegex = re.compile(r'Bat(man|mobile|copter|bat)')\n",
    ">>> mo = batRegex.search('Batmobile lost a wheel')\n",
    ">>> mo.group()\n",
    "'Batmobile'\n",
    ">>> mo.group(1)\n",
    "'mobile'\n",
    "```\n",
    "You can also use the pipe to match one of several patterns as part of your regex. For example, <font color=red>say you wanted to match any of the strings 'Batman', 'Batmobile', 'Batcopter', and 'Batbat'.</font> Since all these strings start with Bat, it would be nice if you could specify that prefix only once. This can be done with parentheses. Enter the following into the interactive shell:\n",
    "\n",
    "\n",
    "<font color = blue> ```>>> batRegex = re.compile(r'Bat(man|mobile|copter|bat)')``` </font>\n",
    ">>> mo = batRegex.search('Batmobile lost a wheel')\n",
    ">>> mo.group()\n",
    "'Batmobile'\n",
    ">>> mo.group(1)\n",
    "'mobile'```"
   ]
  },
  {
   "cell_type": "code",
   "execution_count": null,
   "metadata": {},
   "outputs": [],
   "source": []
  },
  {
   "cell_type": "code",
   "execution_count": null,
   "metadata": {},
   "outputs": [],
   "source": []
  }
 ],
 "metadata": {
  "kernelspec": {
   "display_name": "Python 3",
   "language": "python",
   "name": "python3"
  },
  "language_info": {
   "codemirror_mode": {
    "name": "ipython",
    "version": 3
   },
   "file_extension": ".py",
   "mimetype": "text/x-python",
   "name": "python",
   "nbconvert_exporter": "python",
   "pygments_lexer": "ipython3",
   "version": "3.6.4"
  }
 },
 "nbformat": 4,
 "nbformat_minor": 2
}
